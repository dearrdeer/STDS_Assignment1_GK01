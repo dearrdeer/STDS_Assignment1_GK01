{
 "cells": [
  {
   "cell_type": "code",
   "execution_count": 1,
   "metadata": {},
   "outputs": [],
   "source": [
    "import numpy as np\n",
    "import pandas as pd"
   ]
  },
  {
   "cell_type": "markdown",
   "metadata": {},
   "source": [
    "##### How to use this implementation of GK Algorithm"
   ]
  },
  {
   "cell_type": "code",
   "execution_count": 30,
   "metadata": {},
   "outputs": [],
   "source": [
    "from gk import Sketch\n",
    "\n",
    "epsilon = 0.001\n",
    "test_sketch = Sketch(epsilon) #init sketch object\n",
    "\n",
    "# try on random sequence of numbers\n",
    "N = 100000\n",
    "random_vars = np.random.randint(0, 100, N)\n",
    "\n",
    "for v in random_vars:\n",
    "    test_sketch.insert(v)"
   ]
  },
  {
   "cell_type": "markdown",
   "metadata": {},
   "source": [
    "##### Get approximate quantile"
   ]
  },
  {
   "cell_type": "code",
   "execution_count": 31,
   "metadata": {},
   "outputs": [
    {
     "name": "stdout",
     "output_type": "stream",
     "text": [
      "0.001-Approximate 0.5-quantile is 50\n"
     ]
    }
   ],
   "source": [
    "quant = 0.5 #get median\n",
    "answer = test_sketch.quantile(quant)\n",
    "\n",
    "print(f'{test_sketch.eps}-Approximate {quant}-quantile is {answer}')"
   ]
  },
  {
   "cell_type": "markdown",
   "metadata": {},
   "source": [
    "##### Check with real answer"
   ]
  },
  {
   "cell_type": "code",
   "execution_count": 32,
   "metadata": {},
   "outputs": [
    {
     "name": "stdout",
     "output_type": "stream",
     "text": [
      "Exact 0.5-quantile is 49\n"
     ]
    }
   ],
   "source": [
    "real_quantile = sorted(random_vars)[int(quant*N)]\n",
    "print(f'Exact {quant}-quantile is {real_quantile}')"
   ]
  },
  {
   "cell_type": "markdown",
   "metadata": {},
   "source": [
    "##### How much space is used for our data structure"
   ]
  },
  {
   "cell_type": "code",
   "execution_count": 33,
   "metadata": {},
   "outputs": [
    {
     "name": "stdout",
     "output_type": "stream",
     "text": [
      "Number of tuples (v, g, d) is 3000 for N=100000\n"
     ]
    }
   ],
   "source": [
    "print(f'Number of tuples (v, g, d) is {test_sketch.items_num()} for N={N}')"
   ]
  },
  {
   "cell_type": "markdown",
   "metadata": {},
   "source": [
    "##### Make several random tests and check if answer is indeed in the interval"
   ]
  },
  {
   "cell_type": "code",
   "execution_count": 44,
   "metadata": {},
   "outputs": [
    {
     "name": "stdout",
     "output_type": "stream",
     "text": [
      "Test 1 passed\n",
      "Test 2 passed\n",
      "Test 3 passed\n",
      "Test 4 passed\n",
      "Test 5 passed\n"
     ]
    }
   ],
   "source": [
    "number_of_tests = 5\n",
    "for i in range(number_of_tests):\n",
    "    eps = 0.05\n",
    "    N = 10000\n",
    "    s = Sketch(eps)\n",
    "    \n",
    "    vars = np.random.rand((N))\n",
    "    for var in vars:\n",
    "        s.insert(var)\n",
    "    \n",
    "    q = 0.25\n",
    "    answer = s.quantile(q)\n",
    "    assert answer in sorted(vars)[int(q*N)-int(eps*N):int(q*N)+int(eps*N)]\n",
    "    print(f'Test {i+1} passed')"
   ]
  },
  {
   "cell_type": "markdown",
   "metadata": {},
   "source": [
    "##### Analyze space complexity on different epsilons and N"
   ]
  },
  {
   "cell_type": "code",
   "execution_count": 41,
   "metadata": {},
   "outputs": [
    {
     "data": {
      "text/html": [
       "<div>\n",
       "<style scoped>\n",
       "    .dataframe tbody tr th:only-of-type {\n",
       "        vertical-align: middle;\n",
       "    }\n",
       "\n",
       "    .dataframe tbody tr th {\n",
       "        vertical-align: top;\n",
       "    }\n",
       "\n",
       "    .dataframe thead th {\n",
       "        text-align: right;\n",
       "    }\n",
       "</style>\n",
       "<table border=\"1\" class=\"dataframe\">\n",
       "  <thead>\n",
       "    <tr style=\"text-align: right;\">\n",
       "      <th></th>\n",
       "      <th>eps=0.2</th>\n",
       "      <th>eps=0.1</th>\n",
       "      <th>eps=0.05</th>\n",
       "      <th>eps=0.01</th>\n",
       "      <th>eps=0.001</th>\n",
       "    </tr>\n",
       "  </thead>\n",
       "  <tbody>\n",
       "    <tr>\n",
       "      <th>N=1000</th>\n",
       "      <td>4</td>\n",
       "      <td>8</td>\n",
       "      <td>16</td>\n",
       "      <td>83</td>\n",
       "      <td>1000</td>\n",
       "    </tr>\n",
       "    <tr>\n",
       "      <th>N=5000</th>\n",
       "      <td>4</td>\n",
       "      <td>8</td>\n",
       "      <td>16</td>\n",
       "      <td>81</td>\n",
       "      <td>841</td>\n",
       "    </tr>\n",
       "    <tr>\n",
       "      <th>N=10000</th>\n",
       "      <td>4</td>\n",
       "      <td>7</td>\n",
       "      <td>16</td>\n",
       "      <td>76</td>\n",
       "      <td>829</td>\n",
       "    </tr>\n",
       "    <tr>\n",
       "      <th>N=100000</th>\n",
       "      <td>5</td>\n",
       "      <td>8</td>\n",
       "      <td>14</td>\n",
       "      <td>69</td>\n",
       "      <td>749</td>\n",
       "    </tr>\n",
       "  </tbody>\n",
       "</table>\n",
       "</div>"
      ],
      "text/plain": [
       "          eps=0.2  eps=0.1  eps=0.05  eps=0.01  eps=0.001\n",
       "N=1000          4        8        16        83       1000\n",
       "N=5000          4        8        16        81        841\n",
       "N=10000         4        7        16        76        829\n",
       "N=100000        5        8        14        69        749"
      ]
     },
     "execution_count": 41,
     "metadata": {},
     "output_type": "execute_result"
    }
   ],
   "source": [
    "import collections\n",
    "epsilons = [0.2, 0.1, 0.05, 0.01, 0.001]\n",
    "N = [1000, 5000, 10000, 100000]\n",
    "\n",
    "results = collections.defaultdict(dict)\n",
    "for n in N:\n",
    "    for eps in epsilons:\n",
    "        s = Sketch(eps)\n",
    "        for i in range(n):\n",
    "            s.insert(np.random.rand())\n",
    "        results[f'N={n}'][f'eps={eps}'] = s.items_num()\n",
    "\n",
    "df = pd.DataFrame.from_dict(results, orient='index')\n",
    "df"
   ]
  },
  {
   "cell_type": "markdown",
   "metadata": {},
   "source": [
    "##### We can see that practically algorithm uses much less space than theoretical worst case"
   ]
  },
  {
   "cell_type": "code",
   "execution_count": null,
   "metadata": {},
   "outputs": [],
   "source": [
    "import matplotlib.pyplot as plt\n",
    "\n",
    "N = [1000, 2000, 4000, 8000, 16000, 32000, 64000, 128000]\n",
    "eps = 0.01\n",
    "y = []\n",
    "for n in N:\n",
    "    s = Sketch(eps)\n",
    "    vars = np.random.rand((n))\n",
    "    for var in vars:\n",
    "        s.insert(var)\n",
    "    \n",
    "    y.append(s.items_num)"
   ]
  }
 ],
 "metadata": {
  "interpreter": {
   "hash": "916dbcbb3f70747c44a77c7bcd40155683ae19c65e1c03b4aa3499c5328201f1"
  },
  "kernelspec": {
   "display_name": "Python 3.8.10 64-bit",
   "language": "python",
   "name": "python3"
  },
  "language_info": {
   "codemirror_mode": {
    "name": "ipython",
    "version": 3
   },
   "file_extension": ".py",
   "mimetype": "text/x-python",
   "name": "python",
   "nbconvert_exporter": "python",
   "pygments_lexer": "ipython3",
   "version": "3.8.10"
  },
  "orig_nbformat": 4
 },
 "nbformat": 4,
 "nbformat_minor": 2
}
